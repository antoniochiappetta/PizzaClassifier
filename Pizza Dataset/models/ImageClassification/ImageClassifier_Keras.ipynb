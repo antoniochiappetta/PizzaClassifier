{
 "cells": [
  {
   "cell_type": "markdown",
   "metadata": {},
   "source": [
    "# Import dataset"
   ]
  },
  {
   "cell_type": "code",
   "execution_count": 18,
   "metadata": {},
   "outputs": [],
   "source": [
    "import warnings\n",
    "warnings.filterwarnings(\"ignore\")\n",
    "\n",
    "import os\n",
    "import numpy as np\n",
    "from keras.preprocessing.image import ImageDataGenerator\n",
    "from keras.models import Sequential\n",
    "from keras.layers import *\n",
    "from keras import optimizers, callbacks\n",
    "import keras.backend as K\n",
    "\n",
    "%matplotlib inline\n",
    "import matplotlib.pyplot as plt"
   ]
  },
  {
   "cell_type": "code",
   "execution_count": 19,
   "metadata": {},
   "outputs": [
    {
     "name": "stdout",
     "output_type": "stream",
     "text": [
      "Found 880 images belonging to 7 classes.\n",
      "Found 110 images belonging to 7 classes.\n",
      "Found 110 images belonging to 7 classes.\n"
     ]
    }
   ],
   "source": [
    "image_width = 224\n",
    "image_height = 224\n",
    "\n",
    "from keras.applications.mobilenet import preprocess_input # correct preprocessing for this model\n",
    "\n",
    "train_datagen = ImageDataGenerator(rotation_range=40,\n",
    "                                   width_shift_range=0.2,\n",
    "                                   height_shift_range=0.2,\n",
    "                                   shear_range=0.2,\n",
    "                                   zoom_range=0.2,\n",
    "                                   channel_shift_range=0.2,\n",
    "                                   horizontal_flip=True,\n",
    "                                   fill_mode=\"nearest\",\n",
    "                                   preprocessing_function=preprocess_input)\n",
    "\n",
    "val_datagen = ImageDataGenerator(preprocessing_function=preprocess_input)\n",
    "\n",
    "test_datagen = ImageDataGenerator(preprocessing_function=preprocess_input)\n",
    "\n",
    "images_dir = \"../../data/\"\n",
    "train_data_dir = images_dir + \"train/\"\n",
    "val_data_dir = images_dir + \"val/\"\n",
    "test_data_dir = images_dir + \"test/\"\n",
    "batch_size = 64\n",
    "\n",
    "train_generator = train_datagen.flow_from_directory(train_data_dir,\n",
    "                                                   target_size=(image_width, image_height),\n",
    "                                                   batch_size=batch_size,\n",
    "                                                   class_mode=\"categorical\",\n",
    "                                                   shuffle=True)\n",
    "\n",
    "val_generator = val_datagen.flow_from_directory(val_data_dir,\n",
    "                                               target_size=(image_width, image_height),\n",
    "                                               batch_size=batch_size,\n",
    "                                               class_mode=\"categorical\",\n",
    "                                               shuffle=False)\n",
    "\n",
    "test_generator = test_datagen.flow_from_directory(test_data_dir,\n",
    "                                                 target_size=(image_width, image_height),\n",
    "                                                 batch_size=batch_size,\n",
    "                                                 class_mode=\"categorical\",\n",
    "                                                 shuffle=False)"
   ]
  },
  {
   "cell_type": "markdown",
   "metadata": {},
   "source": [
    "# MobileNet base model for feature extraction"
   ]
  },
  {
   "cell_type": "code",
   "execution_count": 20,
   "metadata": {},
   "outputs": [],
   "source": [
    "from keras.applications.mobilenet import MobileNet\n",
    "\n",
    "base_model = MobileNet(input_shape=(image_height, image_width, 3),\n",
    "                      include_top=False, # Leave off classifier layers, use it only as feature extractor\n",
    "                      weights=\"imagenet\",\n",
    "                      pooling=None) # Leave off classifier layers, use it only as feature extractor"
   ]
  },
  {
   "cell_type": "markdown",
   "metadata": {},
   "source": [
    "# Logistic regression for classification"
   ]
  },
  {
   "cell_type": "code",
   "execution_count": 21,
   "metadata": {},
   "outputs": [],
   "source": [
    "num_classes = 7\n",
    "\n",
    "from keras import regularizers\n",
    "top_model = Sequential()\n",
    "top_model.add(base_model)\n",
    "top_model.add(GlobalAveragePooling2D())\n",
    "top_model.add(Dropout(0.5))\n",
    "top_model.add(Dense(num_classes, kernel_regularizer=regularizers.l2(0.001)))\n",
    "top_model.add(Activation(\"softmax\"))\n",
    "\n",
    "for layer in base_model.layers:\n",
    "    layer.trainable = False\n",
    "    \n",
    "top_model.compile(loss=\"categorical_crossentropy\",\n",
    "                 optimizer=optimizers.Adam(lr=1e-3),\n",
    "                 metrics=[\"accuracy\"])"
   ]
  },
  {
   "cell_type": "markdown",
   "metadata": {},
   "source": [
    "# Training"
   ]
  },
  {
   "cell_type": "code",
   "execution_count": 22,
   "metadata": {},
   "outputs": [],
   "source": [
    "checkpoint_dir = \"checkpoints_keras/\"\n",
    "checkpoint_name = (checkpoint_dir + \"imageclassifier-{val_loss:.4f}-{val_acc:.4f}.hdf5\")\n",
    "\n",
    "if not os.path.exists(checkpoint_dir):\n",
    "    os.makedirs(checkpoint_dir)\n",
    "    \n",
    "def create_callbacks():\n",
    "    return [\n",
    "        callbacks.EarlyStopping(monitor=\"val_acc\",\n",
    "                               patience=10,\n",
    "                               verbose=1),\n",
    "        callbacks.ModelCheckpoint(checkpoint_name,\n",
    "                                 monitor=\"val_acc\",\n",
    "                                 verbose=1,\n",
    "                                 save_best_only=True)\n",
    "    ]\n",
    "\n",
    "my_callbacks = create_callbacks()"
   ]
  },
  {
   "cell_type": "code",
   "execution_count": 23,
   "metadata": {},
   "outputs": [],
   "source": [
    "histories = []"
   ]
  },
  {
   "cell_type": "code",
   "execution_count": 24,
   "metadata": {},
   "outputs": [
    {
     "name": "stdout",
     "output_type": "stream",
     "text": [
      "Epoch 1/10\n",
      "14/14 [==============================] - 64s 5s/step - loss: 2.0822 - acc: 0.3998 - val_loss: 1.0122 - val_acc: 0.6273\n",
      "\n",
      "Epoch 00001: val_acc improved from -inf to 0.62727, saving model to checkpoints_keras/imageclassifier-1.0122-0.6273.hdf5\n",
      "Epoch 2/10\n",
      "14/14 [==============================] - 41s 3s/step - loss: 1.4872 - acc: 0.5491 - val_loss: 0.6788 - val_acc: 0.8091\n",
      "\n",
      "Epoch 00002: val_acc improved from 0.62727 to 0.80909, saving model to checkpoints_keras/imageclassifier-0.6788-0.8091.hdf5\n",
      "Epoch 3/10\n",
      "14/14 [==============================] - 42s 3s/step - loss: 1.0842 - acc: 0.6356 - val_loss: 0.4967 - val_acc: 0.8364\n",
      "\n",
      "Epoch 00003: val_acc improved from 0.80909 to 0.83636, saving model to checkpoints_keras/imageclassifier-0.4967-0.8364.hdf5\n",
      "Epoch 4/10\n",
      "14/14 [==============================] - 41s 3s/step - loss: 0.9121 - acc: 0.6670 - val_loss: 0.3916 - val_acc: 0.8909\n",
      "\n",
      "Epoch 00004: val_acc improved from 0.83636 to 0.89091, saving model to checkpoints_keras/imageclassifier-0.3916-0.8909.hdf5\n",
      "Epoch 5/10\n",
      "14/14 [==============================] - 41s 3s/step - loss: 0.7062 - acc: 0.7552 - val_loss: 0.3283 - val_acc: 0.9182\n",
      "\n",
      "Epoch 00005: val_acc improved from 0.89091 to 0.91818, saving model to checkpoints_keras/imageclassifier-0.3283-0.9182.hdf5\n",
      "Epoch 6/10\n",
      "14/14 [==============================] - 41s 3s/step - loss: 0.6520 - acc: 0.7835 - val_loss: 0.2975 - val_acc: 0.9273\n",
      "\n",
      "Epoch 00006: val_acc improved from 0.91818 to 0.92727, saving model to checkpoints_keras/imageclassifier-0.2975-0.9273.hdf5\n",
      "Epoch 7/10\n",
      "14/14 [==============================] - 42s 3s/step - loss: 0.5228 - acc: 0.8263 - val_loss: 0.2505 - val_acc: 0.9455\n",
      "\n",
      "Epoch 00007: val_acc improved from 0.92727 to 0.94545, saving model to checkpoints_keras/imageclassifier-0.2505-0.9455.hdf5\n",
      "Epoch 8/10\n",
      "14/14 [==============================] - 41s 3s/step - loss: 0.5419 - acc: 0.8066 - val_loss: 0.2407 - val_acc: 0.9455\n",
      "\n",
      "Epoch 00008: val_acc did not improve from 0.94545\n",
      "Epoch 9/10\n",
      "14/14 [==============================] - 41s 3s/step - loss: 0.5146 - acc: 0.8221 - val_loss: 0.2120 - val_acc: 0.9545\n",
      "\n",
      "Epoch 00009: val_acc improved from 0.94545 to 0.95455, saving model to checkpoints_keras/imageclassifier-0.2120-0.9545.hdf5\n",
      "Epoch 10/10\n",
      "14/14 [==============================] - 41s 3s/step - loss: 0.4435 - acc: 0.8498 - val_loss: 0.2020 - val_acc: 0.9727\n",
      "\n",
      "Epoch 00010: val_acc improved from 0.95455 to 0.97273, saving model to checkpoints_keras/imageclassifier-0.2020-0.9727.hdf5\n"
     ]
    }
   ],
   "source": [
    "history = top_model.fit_generator(train_generator,\n",
    "                                 steps_per_epoch=len(train_generator),\n",
    "                                 epochs=10,\n",
    "                                 callbacks=my_callbacks,\n",
    "                                 validation_data=val_generator,\n",
    "                                 validation_steps=len(val_generator),\n",
    "                                 workers=8)\n",
    "histories.append(history)"
   ]
  },
  {
   "cell_type": "code",
   "execution_count": 25,
   "metadata": {},
   "outputs": [],
   "source": [
    "def combine_histories():\n",
    "    history = {\n",
    "        \"loss\": [],\n",
    "        \"val_loss\": [],\n",
    "        \"acc\": [],\n",
    "        \"val_acc\": []\n",
    "    }\n",
    "    \n",
    "    for h in histories:\n",
    "        for k in history.keys():\n",
    "            history[k] = h.history[k]\n",
    "    return history\n",
    "\n",
    "history = combine_histories()"
   ]
  },
  {
   "cell_type": "code",
   "execution_count": 26,
   "metadata": {},
   "outputs": [
    {
     "data": {
      "image/png": "[encoded data removed]",
      "text/plain": [
       "<Figure size 720x432 with 1 Axes>"
      ]
     },
     "metadata": {
      "needs_background": "light"
     },
     "output_type": "display_data"
    }
   ],
   "source": [
    "def plot_accuracy(history):\n",
    "    fig = plt.figure(figsize=(10,6))\n",
    "    plt.plot(history[\"acc\"])\n",
    "    plt.plot(history[\"val_acc\"])\n",
    "    plt.xlabel(\"Epochs\")\n",
    "    plt.ylabel(\"Accuracy\")\n",
    "    plt.legend([\"Train\", \"Validation\"])\n",
    "    plt.show()\n",
    "\n",
    "plot_accuracy(history)"
   ]
  },
  {
   "cell_type": "markdown",
   "metadata": {},
   "source": [
    "# Testing"
   ]
  },
  {
   "cell_type": "code",
   "execution_count": 34,
   "metadata": {},
   "outputs": [],
   "source": [
    "from keras.models import load_model\n",
    "best_model = load_model(checkpoint_dir + \"imageclassifier-0.2020-0.9727.hdf5\")"
   ]
  },
  {
   "cell_type": "code",
   "execution_count": 35,
   "metadata": {},
   "outputs": [
    {
     "data": {
      "text/plain": [
       "[0.13190471997315234, 0.9818181818181818]"
      ]
     },
     "execution_count": 35,
     "metadata": {},
     "output_type": "execute_result"
    }
   ],
   "source": [
    "best_model.evaluate_generator(test_generator,\n",
    "                              steps=len(test_generator))"
   ]
  },
  {
   "cell_type": "code",
   "execution_count": 36,
   "metadata": {},
   "outputs": [],
   "source": [
    "test_generator.reset()\n",
    "probabilities = best_model.predict_generator(test_generator,\n",
    "                                            steps=len(test_generator))\n",
    "predicted_labels = np.argmax(probabilities, axis=-1)"
   ]
  },
  {
   "cell_type": "code",
   "execution_count": 37,
   "metadata": {},
   "outputs": [],
   "source": [
    "target_labels = test_generator.classes\n",
    "\n",
    "from sklearn import metrics\n",
    "conf = metrics.confusion_matrix(target_labels, predicted_labels)"
   ]
  },
  {
   "cell_type": "code",
   "execution_count": 38,
   "metadata": {},
   "outputs": [
    {
     "data": {
      "image/png": "[encoded data removed]",
      "text/plain": [
       "<Figure size 720x720 with 2 Axes>"
      ]
     },
     "metadata": {
      "needs_background": "light"
     },
     "output_type": "display_data"
    }
   ],
   "source": [
    "import seaborn as sns\n",
    "\n",
    "def plot_confusion_matrix(conf, labels, figsize=(8, 8)):\n",
    "    fig = plt.figure(figsize=figsize)\n",
    "    heatmap = sns.heatmap(conf, annot=True, fmt=\"d\")\n",
    "    heatmap.xaxis.set_ticklabels(labels, rotation=45, ha=\"right\", fontsize=12)\n",
    "    heatmap.yaxis.set_ticklabels(labels, rotation=0, ha=\"right\", fontsize=12)\n",
    "    plt.xlabel(\"Predicted label\", fontsize=12)\n",
    "    plt.ylabel(\"True label\", fontsize=12)\n",
    "    plt.show()\n",
    "    \n",
    "# Find the class names that correspond to the indices\n",
    "labels = [\"\"] * num_classes\n",
    "for k, v in test_generator.class_indices.items():\n",
    "    labels[v] = k\n",
    "    \n",
    "plot_confusion_matrix(conf, labels, figsize=(10, 10))"
   ]
  },
  {
   "cell_type": "code",
   "execution_count": 39,
   "metadata": {},
   "outputs": [
    {
     "name": "stdout",
     "output_type": "stream",
     "text": [
      "marinara/78716948_167201031190735_2030948867286699029_n.jpg was predicted as 'diavola' 0.4270\n",
      "capricciosa/72213206_155323279085505_8477034380491161994_n.jpg was predicted as 'diavola' 0.3427\n"
     ]
    }
   ],
   "source": [
    "# Find for which images the predicted class is wrong\n",
    "wrong_images = np.where(predicted_labels != target_labels)[0]\n",
    "\n",
    "# For every prediction, find the largest probability value;\n",
    "# this is the probability of the winning class for this image\n",
    "probs_max = np.max(probabilities, axis=-1)\n",
    "\n",
    "# Sort the probabilities from the wrong images from low to high\n",
    "idx = np.argsort(probs_max[wrong_images])\n",
    "\n",
    "# Reverse the order (high to low), and keep the 5 highest ones\n",
    "idx = idx[::-1][:5]\n",
    "\n",
    "# Get the indices of the images with the worst predictions\n",
    "worst_predictions = wrong_images[idx]\n",
    "\n",
    "index2class = {v:k for k,v in test_generator.class_indices.items()}\n",
    "\n",
    "for i in worst_predictions:\n",
    "    print(\"%s was predicted as '%s' %.4f\" % (test_generator.filenames[i],\n",
    "                                             index2class[predicted_labels[i]],\n",
    "                                             probs_max[i]))"
   ]
  },
  {
   "cell_type": "markdown",
   "metadata": {},
   "source": [
    "# Convertion"
   ]
  },
  {
   "cell_type": "code",
   "execution_count": 40,
   "metadata": {},
   "outputs": [
    {
     "name": "stdout",
     "output_type": "stream",
     "text": [
      "0 : mobilenet_1.00_224_input, <keras.engine.input_layer.InputLayer object at 0x65e29a5f8>\n",
      "1 : mobilenet_1.00_224_conv1_pad, <keras.layers.convolutional.ZeroPadding2D object at 0x66114bcc0>\n",
      "2 : mobilenet_1.00_224_conv1, <keras.layers.convolutional.Conv2D object at 0x66114bf98>\n",
      "3 : mobilenet_1.00_224_conv1_bn, <keras.layers.normalization.BatchNormalization object at 0x66114bcf8>\n",
      "4 : mobilenet_1.00_224_conv1_relu, <keras.layers.advanced_activations.ReLU object at 0x66114be80>\n",
      "5 : mobilenet_1.00_224_conv_dw_1, <keras.layers.convolutional.DepthwiseConv2D object at 0x661156198>\n",
      "6 : mobilenet_1.00_224_conv_dw_1_bn, <keras.layers.normalization.BatchNormalization object at 0x661156208>\n",
      "7 : mobilenet_1.00_224_conv_dw_1_relu, <keras.layers.advanced_activations.ReLU object at 0x6611564e0>\n",
      "8 : mobilenet_1.00_224_conv_pw_1, <keras.layers.convolutional.Conv2D object at 0x661156518>\n",
      "9 : mobilenet_1.00_224_conv_pw_1_bn, <keras.layers.normalization.BatchNormalization object at 0x6611566a0>\n",
      "10 : mobilenet_1.00_224_conv_pw_1_relu, <keras.layers.advanced_activations.ReLU object at 0x6611567b8>\n",
      "11 : mobilenet_1.00_224_conv_pad_2, <keras.layers.convolutional.ZeroPadding2D object at 0x6611567f0>\n",
      "12 : mobilenet_1.00_224_conv_dw_2, <keras.layers.convolutional.DepthwiseConv2D object at 0x661156828>\n",
      "13 : mobilenet_1.00_224_conv_dw_2_bn, <keras.layers.normalization.BatchNormalization object at 0x661156898>\n",
      "14 : mobilenet_1.00_224_conv_dw_2_relu, <keras.layers.advanced_activations.ReLU object at 0x661156b70>\n",
      "15 : mobilenet_1.00_224_conv_pw_2, <keras.layers.convolutional.Conv2D object at 0x661156ba8>\n",
      "16 : mobilenet_1.00_224_conv_pw_2_bn, <keras.layers.normalization.BatchNormalization object at 0x661156d30>\n",
      "17 : mobilenet_1.00_224_conv_pw_2_relu, <keras.layers.advanced_activations.ReLU object at 0x661156e48>\n",
      "18 : mobilenet_1.00_224_conv_dw_3, <keras.layers.convolutional.DepthwiseConv2D object at 0x661156e80>\n",
      "19 : mobilenet_1.00_224_conv_dw_3_bn, <keras.layers.normalization.BatchNormalization object at 0x66114bef0>\n",
      "20 : mobilenet_1.00_224_conv_dw_3_relu, <keras.layers.advanced_activations.ReLU object at 0x66115d208>\n",
      "21 : mobilenet_1.00_224_conv_pw_3, <keras.layers.convolutional.Conv2D object at 0x66115d240>\n",
      "22 : mobilenet_1.00_224_conv_pw_3_bn, <keras.layers.normalization.BatchNormalization object at 0x66115d3c8>\n",
      "23 : mobilenet_1.00_224_conv_pw_3_relu, <keras.layers.advanced_activations.ReLU object at 0x66115d4e0>\n",
      "24 : mobilenet_1.00_224_conv_pad_4, <keras.layers.convolutional.ZeroPadding2D object at 0x66115d518>\n",
      "25 : mobilenet_1.00_224_conv_dw_4, <keras.layers.convolutional.DepthwiseConv2D object at 0x66115d550>\n",
      "26 : mobilenet_1.00_224_conv_dw_4_bn, <keras.layers.normalization.BatchNormalization object at 0x66115d5c0>\n",
      "27 : mobilenet_1.00_224_conv_dw_4_relu, <keras.layers.advanced_activations.ReLU object at 0x66115d898>\n",
      "28 : mobilenet_1.00_224_conv_pw_4, <keras.layers.convolutional.Conv2D object at 0x66115d8d0>\n",
      "29 : mobilenet_1.00_224_conv_pw_4_bn, <keras.layers.normalization.BatchNormalization object at 0x66115da58>\n",
      "30 : mobilenet_1.00_224_conv_pw_4_relu, <keras.layers.advanced_activations.ReLU object at 0x66115db70>\n",
      "31 : mobilenet_1.00_224_conv_dw_5, <keras.layers.convolutional.DepthwiseConv2D object at 0x66115dba8>\n",
      "32 : mobilenet_1.00_224_conv_dw_5_bn, <keras.layers.normalization.BatchNormalization object at 0x66115dc18>\n",
      "33 : mobilenet_1.00_224_conv_dw_5_relu, <keras.layers.advanced_activations.ReLU object at 0x66115def0>\n",
      "34 : mobilenet_1.00_224_conv_pw_5, <keras.layers.convolutional.Conv2D object at 0x66115df28>\n",
      "35 : mobilenet_1.00_224_conv_pw_5_bn, <keras.layers.normalization.BatchNormalization object at 0x6611640f0>\n",
      "36 : mobilenet_1.00_224_conv_pw_5_relu, <keras.layers.advanced_activations.ReLU object at 0x661164208>\n",
      "37 : mobilenet_1.00_224_conv_pad_6, <keras.layers.convolutional.ZeroPadding2D object at 0x661164240>\n",
      "38 : mobilenet_1.00_224_conv_dw_6, <keras.layers.convolutional.DepthwiseConv2D object at 0x661164278>\n",
      "39 : mobilenet_1.00_224_conv_dw_6_bn, <keras.layers.normalization.BatchNormalization object at 0x6611642e8>\n",
      "40 : mobilenet_1.00_224_conv_dw_6_relu, <keras.layers.advanced_activations.ReLU object at 0x6611645c0>\n",
      "41 : mobilenet_1.00_224_conv_pw_6, <keras.layers.convolutional.Conv2D object at 0x6611645f8>\n",
      "42 : mobilenet_1.00_224_conv_pw_6_bn, <keras.layers.normalization.BatchNormalization object at 0x6611560b8>\n",
      "43 : mobilenet_1.00_224_conv_pw_6_relu, <keras.layers.advanced_activations.ReLU object at 0x661164860>\n",
      "44 : mobilenet_1.00_224_conv_dw_7, <keras.layers.convolutional.DepthwiseConv2D object at 0x661164898>\n",
      "45 : mobilenet_1.00_224_conv_dw_7_bn, <keras.layers.normalization.BatchNormalization object at 0x661164908>\n",
      "46 : mobilenet_1.00_224_conv_dw_7_relu, <keras.layers.advanced_activations.ReLU object at 0x661164be0>\n",
      "47 : mobilenet_1.00_224_conv_pw_7, <keras.layers.convolutional.Conv2D object at 0x661164c18>\n",
      "48 : mobilenet_1.00_224_conv_pw_7_bn, <keras.layers.normalization.BatchNormalization object at 0x661164da0>\n",
      "49 : mobilenet_1.00_224_conv_pw_7_relu, <keras.layers.advanced_activations.ReLU object at 0x661164eb8>\n",
      "50 : mobilenet_1.00_224_conv_dw_8, <keras.layers.convolutional.DepthwiseConv2D object at 0x661164ef0>\n",
      "51 : mobilenet_1.00_224_conv_dw_8_bn, <keras.layers.normalization.BatchNormalization object at 0x66116b080>\n",
      "52 : mobilenet_1.00_224_conv_dw_8_relu, <keras.layers.advanced_activations.ReLU object at 0x66116b278>\n",
      "53 : mobilenet_1.00_224_conv_pw_8, <keras.layers.convolutional.Conv2D object at 0x66116b2b0>\n",
      "54 : mobilenet_1.00_224_conv_pw_8_bn, <keras.layers.normalization.BatchNormalization object at 0x66116b438>\n",
      "55 : mobilenet_1.00_224_conv_pw_8_relu, <keras.layers.advanced_activations.ReLU object at 0x66116b550>\n",
      "56 : mobilenet_1.00_224_conv_dw_9, <keras.layers.convolutional.DepthwiseConv2D object at 0x66116b588>\n",
      "57 : mobilenet_1.00_224_conv_dw_9_bn, <keras.layers.normalization.BatchNormalization object at 0x66116b5f8>\n",
      "58 : mobilenet_1.00_224_conv_dw_9_relu, <keras.layers.advanced_activations.ReLU object at 0x66116b8d0>\n",
      "59 : mobilenet_1.00_224_conv_pw_9, <keras.layers.convolutional.Conv2D object at 0x66116b908>\n",
      "60 : mobilenet_1.00_224_conv_pw_9_bn, <keras.layers.normalization.BatchNormalization object at 0x66116ba90>\n",
      "61 : mobilenet_1.00_224_conv_pw_9_relu, <keras.layers.advanced_activations.ReLU object at 0x66116bba8>\n",
      "62 : mobilenet_1.00_224_conv_dw_10, <keras.layers.convolutional.DepthwiseConv2D object at 0x66116bbe0>\n",
      "63 : mobilenet_1.00_224_conv_dw_10_bn, <keras.layers.normalization.BatchNormalization object at 0x66116bc50>\n",
      "64 : mobilenet_1.00_224_conv_dw_10_relu, <keras.layers.advanced_activations.ReLU object at 0x66116bf28>\n",
      "65 : mobilenet_1.00_224_conv_pw_10, <keras.layers.convolutional.Conv2D object at 0x66116bf60>\n",
      "66 : mobilenet_1.00_224_conv_pw_10_bn, <keras.layers.normalization.BatchNormalization object at 0x661170128>\n",
      "67 : mobilenet_1.00_224_conv_pw_10_relu, <keras.layers.advanced_activations.ReLU object at 0x661170240>\n",
      "68 : mobilenet_1.00_224_conv_dw_11, <keras.layers.convolutional.DepthwiseConv2D object at 0x661170278>\n",
      "69 : mobilenet_1.00_224_conv_dw_11_bn, <keras.layers.normalization.BatchNormalization object at 0x6611702e8>\n",
      "70 : mobilenet_1.00_224_conv_dw_11_relu, <keras.layers.advanced_activations.ReLU object at 0x6611705c0>\n",
      "71 : mobilenet_1.00_224_conv_pw_11, <keras.layers.convolutional.Conv2D object at 0x6611705f8>\n",
      "72 : mobilenet_1.00_224_conv_pw_11_bn, <keras.layers.normalization.BatchNormalization object at 0x661170780>\n",
      "73 : mobilenet_1.00_224_conv_pw_11_relu, <keras.layers.advanced_activations.ReLU object at 0x661170898>\n",
      "74 : mobilenet_1.00_224_conv_pad_12, <keras.layers.convolutional.ZeroPadding2D object at 0x6611708d0>\n",
      "75 : mobilenet_1.00_224_conv_dw_12, <keras.layers.convolutional.DepthwiseConv2D object at 0x661170908>\n",
      "76 : mobilenet_1.00_224_conv_dw_12_bn, <keras.layers.normalization.BatchNormalization object at 0x661170978>\n",
      "77 : mobilenet_1.00_224_conv_dw_12_relu, <keras.layers.advanced_activations.ReLU object at 0x661170c50>\n",
      "78 : mobilenet_1.00_224_conv_pw_12, <keras.layers.convolutional.Conv2D object at 0x661170c88>\n",
      "79 : mobilenet_1.00_224_conv_pw_12_bn, <keras.layers.normalization.BatchNormalization object at 0x661170e10>\n"
     ]
    },
    {
     "name": "stdout",
     "output_type": "stream",
     "text": [
      "80 : mobilenet_1.00_224_conv_pw_12_relu, <keras.layers.advanced_activations.ReLU object at 0x661170f28>\n",
      "81 : mobilenet_1.00_224_conv_dw_13, <keras.layers.convolutional.DepthwiseConv2D object at 0x661170f60>\n",
      "82 : mobilenet_1.00_224_conv_dw_13_bn, <keras.layers.normalization.BatchNormalization object at 0x65e29a0f0>\n",
      "83 : mobilenet_1.00_224_conv_dw_13_relu, <keras.layers.advanced_activations.ReLU object at 0x65e29a2e8>\n",
      "84 : mobilenet_1.00_224_conv_pw_13, <keras.layers.convolutional.Conv2D object at 0x65e29a320>\n",
      "85 : mobilenet_1.00_224_conv_pw_13_bn, <keras.layers.normalization.BatchNormalization object at 0x65e29a4a8>\n",
      "86 : mobilenet_1.00_224_conv_pw_13_relu, <keras.layers.advanced_activations.ReLU object at 0x65e29a5c0>\n",
      "87 : global_average_pooling2d_2, <keras.layers.pooling.GlobalAveragePooling2D object at 0x65e29a630>\n",
      "88 : dense_2, <keras.layers.core.Dense object at 0x65e29a668>\n",
      "89 : activation_2, <keras.layers.core.Activation object at 0x66b761ef0>\n"
     ]
    }
   ],
   "source": [
    "import coremltools\n",
    "\n",
    "labels = [\"capricciosa\", \"diavola\", \"margherita\", \"marinara\", \"multiple\", \"other\", \"quattro-formaggi\"]\n",
    "\n",
    "coreml_model = coremltools.converters.keras.convert(best_model,\n",
    "                                                   input_names=\"image\",\n",
    "                                                   image_input_names=\"image\",\n",
    "                                                   output_names=\"labelProbability\",\n",
    "                                                   predicted_feature_name=\"label\",\n",
    "                                                   red_bias=-1, # normalization to interval [-1,+1]\n",
    "                                                   green_bias=-1,\n",
    "                                                   blue_bias=-1,\n",
    "                                                   image_scale=2/255.0,\n",
    "                                                   class_labels=labels)\n",
    "\n",
    "coreml_model.author = \"Antonio Chiappetta\"\n",
    "coreml_model.license = \"Public Domain\"\n",
    "coreml_model.short_description = \"A machine learning model that has been trained to distinguish different types of pizza. Currently supported: margherita, marinara.\"\n",
    "coreml_model.input_description[\"image\"] = \"Input image\"\n",
    "coreml_model.output_description[\"labelProbability\"] = \"Prediction probabilities\"\n",
    "coreml_model.output_description[\"label\"] = \"Class label of top prediction\"\n",
    "\n",
    "coreml_model.save(\"Pizza_keras.mlmodel\")"
   ]
  },
  {
   "cell_type": "code",
   "execution_count": null,
   "metadata": {},
   "outputs": [],
   "source": []
  }
 ],
 "metadata": {
  "kernelspec": {
   "display_name": "Python 3",
   "language": "python",
   "name": "python3"
  },
  "language_info": {
   "codemirror_mode": {
    "name": "ipython",
    "version": 3
   },
   "file_extension": ".py",
   "mimetype": "text/x-python",
   "name": "python",
   "nbconvert_exporter": "python",
   "pygments_lexer": "ipython3",
   "version": "3.6.8"
  }
 },
 "nbformat": 4,
 "nbformat_minor": 4
}
