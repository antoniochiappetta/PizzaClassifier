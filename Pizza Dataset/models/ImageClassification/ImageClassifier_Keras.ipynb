{
 "cells": [
  {
   "cell_type": "markdown",
   "metadata": {},
   "source": [
    "# Import dataset"
   ]
  },
  {
   "cell_type": "code",
   "execution_count": 2,
   "metadata": {},
   "outputs": [
    {
     "name": "stderr",
     "output_type": "stream",
     "text": [
      "Using TensorFlow backend.\n"
     ]
    }
   ],
   "source": [
    "import warnings\n",
    "warnings.filterwarnings(\"ignore\")\n",
    "\n",
    "import os\n",
    "import numpy as np\n",
    "from keras.preprocessing.image import ImageDataGenerator\n",
    "from keras.models import Sequential\n",
    "from keras.layers import *\n",
    "from keras import optimizers, callbacks\n",
    "import keras.backend as K\n",
    "\n",
    "%matplotlib inline\n",
    "import matplotlib.pyplot as plt"
   ]
  },
  {
   "cell_type": "code",
   "execution_count": 3,
   "metadata": {},
   "outputs": [
    {
     "name": "stdout",
     "output_type": "stream",
     "text": [
      "Found 20 images belonging to 2 classes.\n",
      "Found 6 images belonging to 2 classes.\n",
      "Found 6 images belonging to 2 classes.\n"
     ]
    }
   ],
   "source": [
    "image_width = 224\n",
    "image_height = 224\n",
    "\n",
    "from keras.applications.mobilenet import preprocess_input # correct preprocessing for this model\n",
    "\n",
    "train_datagen = ImageDataGenerator(rotation_range=40,\n",
    "                                   width_shift_range=0.2,\n",
    "                                   height_shift_range=0.2,\n",
    "                                   shear_range=0.2,\n",
    "                                   zoom_range=0.2,\n",
    "                                   channel_shift_range=0.2,\n",
    "                                   horizontal_flip=True,\n",
    "                                   fill_mode=\"nearest\",\n",
    "                                   preprocessing_function=preprocess_input)\n",
    "\n",
    "val_datagen = ImageDataGenerator(preprocessing_function=preprocess_input)\n",
    "\n",
    "test_datagen = ImageDataGenerator(preprocessing_function=preprocess_input)\n",
    "\n",
    "images_dir = \"../../\"\n",
    "train_data_dir = images_dir + \"train/\"\n",
    "val_data_dir = images_dir + \"val/\"\n",
    "test_data_dir = images_dir + \"test/\"\n",
    "batch_size = 64\n",
    "\n",
    "train_generator = train_datagen.flow_from_directory(train_data_dir,\n",
    "                                                   target_size=(image_width, image_height),\n",
    "                                                   batch_size=batch_size,\n",
    "                                                   class_mode=\"categorical\",\n",
    "                                                   shuffle=True)\n",
    "\n",
    "val_generator = val_datagen.flow_from_directory(val_data_dir,\n",
    "                                               target_size=(image_width, image_height),\n",
    "                                               batch_size=batch_size,\n",
    "                                               class_mode=\"categorical\",\n",
    "                                               shuffle=False)\n",
    "\n",
    "test_generator = test_datagen.flow_from_directory(test_data_dir,\n",
    "                                                 target_size=(image_width, image_height),\n",
    "                                                 batch_size=batch_size,\n",
    "                                                 class_mode=\"categorical\",\n",
    "                                                 shuffle=False)"
   ]
  },
  {
   "cell_type": "markdown",
   "metadata": {},
   "source": [
    "# MobileNet base model for feature extraction"
   ]
  },
  {
   "cell_type": "code",
   "execution_count": 4,
   "metadata": {},
   "outputs": [
    {
     "name": "stdout",
     "output_type": "stream",
     "text": [
      "WARNING:tensorflow:From /Applications/anaconda3/envs/kerasenv/lib/python3.6/site-packages/keras/backend/tensorflow_backend.py:74: The name tf.get_default_graph is deprecated. Please use tf.compat.v1.get_default_graph instead.\n",
      "\n",
      "WARNING:tensorflow:From /Applications/anaconda3/envs/kerasenv/lib/python3.6/site-packages/keras/backend/tensorflow_backend.py:517: The name tf.placeholder is deprecated. Please use tf.compat.v1.placeholder instead.\n",
      "\n",
      "WARNING:tensorflow:From /Applications/anaconda3/envs/kerasenv/lib/python3.6/site-packages/keras/backend/tensorflow_backend.py:4138: The name tf.random_uniform is deprecated. Please use tf.random.uniform instead.\n",
      "\n",
      "WARNING:tensorflow:From /Applications/anaconda3/envs/kerasenv/lib/python3.6/site-packages/keras/backend/tensorflow_backend.py:174: The name tf.get_default_session is deprecated. Please use tf.compat.v1.get_default_session instead.\n",
      "\n",
      "WARNING:tensorflow:From /Applications/anaconda3/envs/kerasenv/lib/python3.6/site-packages/keras/backend/tensorflow_backend.py:181: The name tf.ConfigProto is deprecated. Please use tf.compat.v1.ConfigProto instead.\n",
      "\n",
      "WARNING:tensorflow:From /Applications/anaconda3/envs/kerasenv/lib/python3.6/site-packages/keras/backend/tensorflow_backend.py:1834: The name tf.nn.fused_batch_norm is deprecated. Please use tf.compat.v1.nn.fused_batch_norm instead.\n",
      "\n"
     ]
    }
   ],
   "source": [
    "from keras.applications.mobilenet import MobileNet\n",
    "\n",
    "base_model = MobileNet(input_shape=(image_height, image_width, 3),\n",
    "                      include_top=False, # Leave off classifier layers, use it only as feature extractor\n",
    "                      weights=\"imagenet\",\n",
    "                      pooling=None) # Leave off classifier layers, use it only as feature extractor"
   ]
  },
  {
   "cell_type": "markdown",
   "metadata": {},
   "source": [
    "# Logistic regression for classification"
   ]
  },
  {
   "cell_type": "code",
   "execution_count": 11,
   "metadata": {},
   "outputs": [],
   "source": [
    "num_classes = 2\n",
    "\n",
    "from keras import regularizers\n",
    "top_model = Sequential()\n",
    "top_model.add(base_model)\n",
    "top_model.add(GlobalAveragePooling2D())\n",
    "top_model.add(Dropout(0.5))\n",
    "top_model.add(Dense(num_classes, kernel_regularizer=regularizers.l2(0.001)))\n",
    "top_model.add(Activation(\"softmax\"))\n",
    "\n",
    "for layer in base_model.layers:\n",
    "    layer.trainable = False\n",
    "    \n",
    "top_model.compile(loss=\"categorical_crossentropy\",\n",
    "                 optimizer=optimizers.Adam(lr=1e-3),\n",
    "                 metrics=[\"accuracy\"])"
   ]
  },
  {
   "cell_type": "markdown",
   "metadata": {},
   "source": [
    "# Training"
   ]
  },
  {
   "cell_type": "code",
   "execution_count": 26,
   "metadata": {},
   "outputs": [],
   "source": [
    "checkpoint_dir = \"checkpoints_keras/\"\n",
    "checkpoint_name = (checkpoint_dir + \"imageclassifier-{val_loss:.4f}-{val_acc:.4f}.hdf5\")\n",
    "\n",
    "if not os.path.exists(checkpoint_dir):\n",
    "    os.makedirs(checkpoint_dir)\n",
    "    \n",
    "def create_callbacks():\n",
    "    return [\n",
    "        callbacks.EarlyStopping(monitor=\"val_acc\",\n",
    "                               patience=10,\n",
    "                               verbose=1),\n",
    "        callbacks.ModelCheckpoint(checkpoint_name,\n",
    "                                 monitor=\"val_acc\",\n",
    "                                 verbose=1,\n",
    "                                 save_best_only=True)\n",
    "    ]\n",
    "\n",
    "my_callbacks = create_callbacks()"
   ]
  },
  {
   "cell_type": "code",
   "execution_count": 27,
   "metadata": {},
   "outputs": [],
   "source": [
    "histories = []"
   ]
  },
  {
   "cell_type": "code",
   "execution_count": 28,
   "metadata": {},
   "outputs": [
    {
     "name": "stdout",
     "output_type": "stream",
     "text": [
      "Epoch 1/10\n",
      "1/1 [==============================] - 2s 2s/step - loss: 1.2245 - acc: 0.5500 - val_loss: 0.5416 - val_acc: 0.8333\n",
      "\n",
      "Epoch 00001: val_acc improved from -inf to 0.83333, saving model to checkpoints_keras/imageclassifier-0.5416-0.8333.hdf5\n",
      "Epoch 2/10\n",
      "1/1 [==============================] - 1s 1s/step - loss: 0.4203 - acc: 0.8000 - val_loss: 0.5534 - val_acc: 0.8333\n",
      "\n",
      "Epoch 00002: val_acc did not improve from 0.83333\n",
      "Epoch 3/10\n",
      "1/1 [==============================] - 1s 1s/step - loss: 0.7667 - acc: 0.6500 - val_loss: 0.5675 - val_acc: 0.8333\n",
      "\n",
      "Epoch 00003: val_acc did not improve from 0.83333\n",
      "Epoch 4/10\n",
      "1/1 [==============================] - 1s 1s/step - loss: 0.5582 - acc: 0.7000 - val_loss: 0.5949 - val_acc: 0.6667\n",
      "\n",
      "Epoch 00004: val_acc did not improve from 0.83333\n",
      "Epoch 5/10\n",
      "1/1 [==============================] - 1s 1s/step - loss: 0.5019 - acc: 0.7000 - val_loss: 0.6100 - val_acc: 0.6667\n",
      "\n",
      "Epoch 00005: val_acc did not improve from 0.83333\n",
      "Epoch 6/10\n",
      "1/1 [==============================] - 1s 1s/step - loss: 0.8482 - acc: 0.5000 - val_loss: 0.6334 - val_acc: 0.5000\n",
      "\n",
      "Epoch 00006: val_acc did not improve from 0.83333\n",
      "Epoch 7/10\n",
      "1/1 [==============================] - 1s 1s/step - loss: 0.5676 - acc: 0.8000 - val_loss: 0.6590 - val_acc: 0.5000\n",
      "\n",
      "Epoch 00007: val_acc did not improve from 0.83333\n",
      "Epoch 8/10\n",
      "1/1 [==============================] - 1s 1s/step - loss: 0.6004 - acc: 0.6000 - val_loss: 0.6846 - val_acc: 0.5000\n",
      "\n",
      "Epoch 00008: val_acc did not improve from 0.83333\n",
      "Epoch 9/10\n",
      "1/1 [==============================] - 1s 1s/step - loss: 0.4664 - acc: 0.8000 - val_loss: 0.6912 - val_acc: 0.5000\n",
      "\n",
      "Epoch 00009: val_acc did not improve from 0.83333\n",
      "Epoch 10/10\n",
      "1/1 [==============================] - 1s 1s/step - loss: 0.6146 - acc: 0.8000 - val_loss: 0.6935 - val_acc: 0.5000\n",
      "\n",
      "Epoch 00010: val_acc did not improve from 0.83333\n"
     ]
    }
   ],
   "source": [
    "history = top_model.fit_generator(train_generator,\n",
    "                                 steps_per_epoch=len(train_generator),\n",
    "                                 epochs=10,\n",
    "                                 callbacks=my_callbacks,\n",
    "                                 validation_data=val_generator,\n",
    "                                 validation_steps=len(val_generator),\n",
    "                                 workers=8)\n",
    "histories.append(history)"
   ]
  },
  {
   "cell_type": "code",
   "execution_count": 29,
   "metadata": {},
   "outputs": [],
   "source": [
    "def combine_histories():\n",
    "    history = {\n",
    "        \"loss\": [],\n",
    "        \"val_loss\": [],\n",
    "        \"acc\": [],\n",
    "        \"val_acc\": []\n",
    "    }\n",
    "    \n",
    "    for h in histories:\n",
    "        for k in history.keys():\n",
    "            history[k] = h.history[k]\n",
    "    return history\n",
    "\n",
    "history = combine_histories()"
   ]
  },
  {
   "cell_type": "code",
   "execution_count": 30,
   "metadata": {},
   "outputs": [
    {
     "data": {
      "image/png": "[encoded data removed]",
      "text/plain": [
       "<Figure size 720x432 with 1 Axes>"
      ]
     },
     "metadata": {
      "needs_background": "light"
     },
     "output_type": "display_data"
    }
   ],
   "source": [
    "def plot_accuracy(history):\n",
    "    fig = plt.figure(figsize=(10,6))\n",
    "    plt.plot(history[\"acc\"])\n",
    "    plt.plot(history[\"val_acc\"])\n",
    "    plt.xlabel(\"Epochs\")\n",
    "    plt.ylabel(\"Accuracy\")\n",
    "    plt.legend([\"Train\", \"Validation\"])\n",
    "    plt.show()\n",
    "\n",
    "plot_accuracy(history)"
   ]
  },
  {
   "cell_type": "markdown",
   "metadata": {},
   "source": [
    "# Testing"
   ]
  },
  {
   "cell_type": "code",
   "execution_count": 32,
   "metadata": {},
   "outputs": [],
   "source": [
    "from keras.models import load_model\n",
    "best_model = load_model(checkpoint_dir + \"imageclassifier-0.5416-0.8333.hdf5\")"
   ]
  },
  {
   "cell_type": "code",
   "execution_count": 33,
   "metadata": {},
   "outputs": [
    {
     "data": {
      "text/plain": [
       "[0.2039228230714798, 1.0]"
      ]
     },
     "execution_count": 33,
     "metadata": {},
     "output_type": "execute_result"
    }
   ],
   "source": [
    "best_model.evaluate_generator(test_generator,\n",
    "                              steps=len(test_generator))"
   ]
  },
  {
   "cell_type": "code",
   "execution_count": 34,
   "metadata": {},
   "outputs": [],
   "source": [
    "test_generator.reset()\n",
    "probabilities = best_model.predict_generator(test_generator,\n",
    "                                            steps=len(test_generator))\n",
    "predicted_labels = np.argmax(probabilities, axis=-1)"
   ]
  },
  {
   "cell_type": "code",
   "execution_count": 35,
   "metadata": {},
   "outputs": [],
   "source": [
    "target_labels = test_generator.classes\n",
    "\n",
    "from sklearn import metrics\n",
    "conf = metrics.confusion_matrix(target_labels, predicted_labels)"
   ]
  },
  {
   "cell_type": "code",
   "execution_count": 36,
   "metadata": {},
   "outputs": [
    {
     "data": {
      "image/png": "[encoded data removed]",
      "text/plain": [
       "<Figure size 1008x1008 with 2 Axes>"
      ]
     },
     "metadata": {
      "needs_background": "light"
     },
     "output_type": "display_data"
    }
   ],
   "source": [
    "import seaborn as sns\n",
    "\n",
    "def plot_confusion_matrix(conf, labels, figsize=(8, 8)):\n",
    "    fig = plt.figure(figsize=figsize)\n",
    "    heatmap = sns.heatmap(conf, annot=True, fmt=\"d\")\n",
    "    heatmap.xaxis.set_ticklabels(labels, rotation=45, ha=\"right\", fontsize=12)\n",
    "    heatmap.yaxis.set_ticklabels(labels, rotation=0, ha=\"right\", fontsize=12)\n",
    "    plt.xlabel(\"Predicted label\", fontsize=12)\n",
    "    plt.ylabel(\"True label\", fontsize=12)\n",
    "    plt.show()\n",
    "    \n",
    "# Find the class names that correspond to the indices\n",
    "labels = [\"\"] * num_classes\n",
    "for k, v in test_generator.class_indices.items():\n",
    "    labels[v] = k\n",
    "    \n",
    "plot_confusion_matrix(conf, labels, figsize=(14, 14))"
   ]
  },
  {
   "cell_type": "code",
   "execution_count": 37,
   "metadata": {},
   "outputs": [],
   "source": [
    "# Find for which images the predicted class is wrong\n",
    "wrong_images = np.where(predicted_labels != target_labels)[0]\n",
    "\n",
    "# For every prediction, find the largest probability value;\n",
    "# this is the probability of the winning class for this image\n",
    "probs_max = np.max(probabilities, axis=-1)\n",
    "\n",
    "# Sort the probabilities from the wrong images from low to high\n",
    "idx = np.argsort(probs_max[wrong_images])\n",
    "\n",
    "# Reverse the order (high to low), and keep the 5 highest ones\n",
    "idx = idx[::-1][:5]\n",
    "\n",
    "# Get the indices of the images with the worst predictions\n",
    "worst_predictions = wrong_images[idx]\n",
    "\n",
    "index2class = {v:k for k,v in test_generator.class_indices.items()}\n",
    "\n",
    "for i in worst_predictions:\n",
    "    print(\"%s was predicted as '%s' %.4f\" % (test_generator.filenames[i],\n",
    "                                             index2class[predicted_labels[i]],\n",
    "                                             probs_max[i]))"
   ]
  },
  {
   "cell_type": "markdown",
   "metadata": {},
   "source": [
    "# Convertion"
   ]
  },
  {
   "cell_type": "code",
   "execution_count": 38,
   "metadata": {},
   "outputs": [
    {
     "name": "stdout",
     "output_type": "stream",
     "text": [
      "0 : mobilenet_1.00_224_input, <keras.engine.input_layer.InputLayer object at 0x6586d1ac8>\n",
      "1 : mobilenet_1.00_224_conv1_pad, <keras.layers.convolutional.ZeroPadding2D object at 0x6586aa198>\n",
      "2 : mobilenet_1.00_224_conv1, <keras.layers.convolutional.Conv2D object at 0x6586aa1d0>\n",
      "3 : mobilenet_1.00_224_conv1_bn, <keras.layers.normalization.BatchNormalization object at 0x6586aa278>\n",
      "4 : mobilenet_1.00_224_conv1_relu, <keras.layers.advanced_activations.ReLU object at 0x6586aa438>\n",
      "5 : mobilenet_1.00_224_conv_dw_1, <keras.layers.convolutional.DepthwiseConv2D object at 0x6586aa668>\n",
      "6 : mobilenet_1.00_224_conv_dw_1_bn, <keras.layers.normalization.BatchNormalization object at 0x6586aa6a0>\n",
      "7 : mobilenet_1.00_224_conv_dw_1_relu, <keras.layers.advanced_activations.ReLU object at 0x6586aa710>\n",
      "8 : mobilenet_1.00_224_conv_pw_1, <keras.layers.convolutional.Conv2D object at 0x6586aa9e8>\n",
      "9 : mobilenet_1.00_224_conv_pw_1_bn, <keras.layers.normalization.BatchNormalization object at 0x6586aaa20>\n",
      "10 : mobilenet_1.00_224_conv_pw_1_relu, <keras.layers.advanced_activations.ReLU object at 0x6586aaba8>\n",
      "11 : mobilenet_1.00_224_conv_pad_2, <keras.layers.convolutional.ZeroPadding2D object at 0x6586aacc0>\n",
      "12 : mobilenet_1.00_224_conv_dw_2, <keras.layers.convolutional.DepthwiseConv2D object at 0x6586aacf8>\n",
      "13 : mobilenet_1.00_224_conv_dw_2_bn, <keras.layers.normalization.BatchNormalization object at 0x6586aad30>\n",
      "14 : mobilenet_1.00_224_conv_dw_2_relu, <keras.layers.advanced_activations.ReLU object at 0x6586aada0>\n",
      "15 : mobilenet_1.00_224_conv_pw_2, <keras.layers.convolutional.Conv2D object at 0x6586b30f0>\n",
      "16 : mobilenet_1.00_224_conv_pw_2_bn, <keras.layers.normalization.BatchNormalization object at 0x6586b3278>\n",
      "17 : mobilenet_1.00_224_conv_pw_2_relu, <keras.layers.advanced_activations.ReLU object at 0x6586b3390>\n",
      "18 : mobilenet_1.00_224_conv_dw_3, <keras.layers.convolutional.DepthwiseConv2D object at 0x6586b33c8>\n",
      "19 : mobilenet_1.00_224_conv_dw_3_bn, <keras.layers.normalization.BatchNormalization object at 0x6586b3438>\n",
      "20 : mobilenet_1.00_224_conv_dw_3_relu, <keras.layers.advanced_activations.ReLU object at 0x6586b3710>\n",
      "21 : mobilenet_1.00_224_conv_pw_3, <keras.layers.convolutional.Conv2D object at 0x6586b3748>\n",
      "22 : mobilenet_1.00_224_conv_pw_3_bn, <keras.layers.normalization.BatchNormalization object at 0x6586b38d0>\n",
      "23 : mobilenet_1.00_224_conv_pw_3_relu, <keras.layers.advanced_activations.ReLU object at 0x6586b39e8>\n",
      "24 : mobilenet_1.00_224_conv_pad_4, <keras.layers.convolutional.ZeroPadding2D object at 0x6586b3a20>\n",
      "25 : mobilenet_1.00_224_conv_dw_4, <keras.layers.convolutional.DepthwiseConv2D object at 0x6586b3a58>\n",
      "26 : mobilenet_1.00_224_conv_dw_4_bn, <keras.layers.normalization.BatchNormalization object at 0x6586b3ac8>\n",
      "27 : mobilenet_1.00_224_conv_dw_4_relu, <keras.layers.advanced_activations.ReLU object at 0x6586b3da0>\n",
      "28 : mobilenet_1.00_224_conv_pw_4, <keras.layers.convolutional.Conv2D object at 0x6586b3dd8>\n",
      "29 : mobilenet_1.00_224_conv_pw_4_bn, <keras.layers.normalization.BatchNormalization object at 0x6586b3f60>\n",
      "30 : mobilenet_1.00_224_conv_pw_4_relu, <keras.layers.advanced_activations.ReLU object at 0x6586aafd0>\n",
      "31 : mobilenet_1.00_224_conv_dw_5, <keras.layers.convolutional.DepthwiseConv2D object at 0x6586b90f0>\n",
      "32 : mobilenet_1.00_224_conv_dw_5_bn, <keras.layers.normalization.BatchNormalization object at 0x6586b9160>\n",
      "33 : mobilenet_1.00_224_conv_dw_5_relu, <keras.layers.advanced_activations.ReLU object at 0x6586b9438>\n",
      "34 : mobilenet_1.00_224_conv_pw_5, <keras.layers.convolutional.Conv2D object at 0x6586b9470>\n",
      "35 : mobilenet_1.00_224_conv_pw_5_bn, <keras.layers.normalization.BatchNormalization object at 0x6586b95f8>\n",
      "36 : mobilenet_1.00_224_conv_pw_5_relu, <keras.layers.advanced_activations.ReLU object at 0x6586b9710>\n",
      "37 : mobilenet_1.00_224_conv_pad_6, <keras.layers.convolutional.ZeroPadding2D object at 0x6586b9748>\n",
      "38 : mobilenet_1.00_224_conv_dw_6, <keras.layers.convolutional.DepthwiseConv2D object at 0x6586b9780>\n",
      "39 : mobilenet_1.00_224_conv_dw_6_bn, <keras.layers.normalization.BatchNormalization object at 0x6586b97f0>\n",
      "40 : mobilenet_1.00_224_conv_dw_6_relu, <keras.layers.advanced_activations.ReLU object at 0x6586b9ac8>\n",
      "41 : mobilenet_1.00_224_conv_pw_6, <keras.layers.convolutional.Conv2D object at 0x6586b9b00>\n",
      "42 : mobilenet_1.00_224_conv_pw_6_bn, <keras.layers.normalization.BatchNormalization object at 0x6586b9c88>\n",
      "43 : mobilenet_1.00_224_conv_pw_6_relu, <keras.layers.advanced_activations.ReLU object at 0x6586b9da0>\n",
      "44 : mobilenet_1.00_224_conv_dw_7, <keras.layers.convolutional.DepthwiseConv2D object at 0x6586b9dd8>\n",
      "45 : mobilenet_1.00_224_conv_dw_7_bn, <keras.layers.normalization.BatchNormalization object at 0x6586b9e48>\n",
      "46 : mobilenet_1.00_224_conv_dw_7_relu, <keras.layers.advanced_activations.ReLU object at 0x6586b3fd0>\n",
      "47 : mobilenet_1.00_224_conv_pw_7, <keras.layers.convolutional.Conv2D object at 0x6586c1198>\n",
      "48 : mobilenet_1.00_224_conv_pw_7_bn, <keras.layers.normalization.BatchNormalization object at 0x6586c1320>\n",
      "49 : mobilenet_1.00_224_conv_pw_7_relu, <keras.layers.advanced_activations.ReLU object at 0x6586c1438>\n",
      "50 : mobilenet_1.00_224_conv_dw_8, <keras.layers.convolutional.DepthwiseConv2D object at 0x6586c1470>\n",
      "51 : mobilenet_1.00_224_conv_dw_8_bn, <keras.layers.normalization.BatchNormalization object at 0x6586c14e0>\n",
      "52 : mobilenet_1.00_224_conv_dw_8_relu, <keras.layers.advanced_activations.ReLU object at 0x6586c17b8>\n",
      "53 : mobilenet_1.00_224_conv_pw_8, <keras.layers.convolutional.Conv2D object at 0x6586c17f0>\n",
      "54 : mobilenet_1.00_224_conv_pw_8_bn, <keras.layers.normalization.BatchNormalization object at 0x6586c1908>\n",
      "55 : mobilenet_1.00_224_conv_pw_8_relu, <keras.layers.advanced_activations.ReLU object at 0x6586c1a20>\n",
      "56 : mobilenet_1.00_224_conv_dw_9, <keras.layers.convolutional.DepthwiseConv2D object at 0x6586c1a58>\n",
      "57 : mobilenet_1.00_224_conv_dw_9_bn, <keras.layers.normalization.BatchNormalization object at 0x6586c1ac8>\n",
      "58 : mobilenet_1.00_224_conv_dw_9_relu, <keras.layers.advanced_activations.ReLU object at 0x6586c1da0>\n",
      "59 : mobilenet_1.00_224_conv_pw_9, <keras.layers.convolutional.Conv2D object at 0x6586c1dd8>\n",
      "60 : mobilenet_1.00_224_conv_pw_9_bn, <keras.layers.normalization.BatchNormalization object at 0x6586c1f60>\n",
      "61 : mobilenet_1.00_224_conv_pw_9_relu, <keras.layers.advanced_activations.ReLU object at 0x6586b9f98>\n",
      "62 : mobilenet_1.00_224_conv_dw_10, <keras.layers.convolutional.DepthwiseConv2D object at 0x6586c80f0>\n",
      "63 : mobilenet_1.00_224_conv_dw_10_bn, <keras.layers.normalization.BatchNormalization object at 0x6586c8160>\n",
      "64 : mobilenet_1.00_224_conv_dw_10_relu, <keras.layers.advanced_activations.ReLU object at 0x6586c8438>\n",
      "65 : mobilenet_1.00_224_conv_pw_10, <keras.layers.convolutional.Conv2D object at 0x6586c8470>\n",
      "66 : mobilenet_1.00_224_conv_pw_10_bn, <keras.layers.normalization.BatchNormalization object at 0x6586c85f8>\n",
      "67 : mobilenet_1.00_224_conv_pw_10_relu, <keras.layers.advanced_activations.ReLU object at 0x6586c8710>\n",
      "68 : mobilenet_1.00_224_conv_dw_11, <keras.layers.convolutional.DepthwiseConv2D object at 0x6586c8748>\n",
      "69 : mobilenet_1.00_224_conv_dw_11_bn, <keras.layers.normalization.BatchNormalization object at 0x6586c87b8>\n",
      "70 : mobilenet_1.00_224_conv_dw_11_relu, <keras.layers.advanced_activations.ReLU object at 0x6586c8a90>\n",
      "71 : mobilenet_1.00_224_conv_pw_11, <keras.layers.convolutional.Conv2D object at 0x6586c8ac8>\n",
      "72 : mobilenet_1.00_224_conv_pw_11_bn, <keras.layers.normalization.BatchNormalization object at 0x6586c8c50>\n",
      "73 : mobilenet_1.00_224_conv_pw_11_relu, <keras.layers.advanced_activations.ReLU object at 0x6586c8d68>\n",
      "74 : mobilenet_1.00_224_conv_pad_12, <keras.layers.convolutional.ZeroPadding2D object at 0x6586c8da0>\n",
      "75 : mobilenet_1.00_224_conv_dw_12, <keras.layers.convolutional.DepthwiseConv2D object at 0x6586c8dd8>\n",
      "76 : mobilenet_1.00_224_conv_dw_12_bn, <keras.layers.normalization.BatchNormalization object at 0x6586c8e48>\n",
      "77 : mobilenet_1.00_224_conv_dw_12_relu, <keras.layers.advanced_activations.ReLU object at 0x6586c1fd0>\n",
      "78 : mobilenet_1.00_224_conv_pw_12, <keras.layers.convolutional.Conv2D object at 0x6586d1198>\n",
      "79 : mobilenet_1.00_224_conv_pw_12_bn, <keras.layers.normalization.BatchNormalization object at 0x6586d1320>\n"
     ]
    },
    {
     "name": "stdout",
     "output_type": "stream",
     "text": [
      "80 : mobilenet_1.00_224_conv_pw_12_relu, <keras.layers.advanced_activations.ReLU object at 0x6586d1438>\n",
      "81 : mobilenet_1.00_224_conv_dw_13, <keras.layers.convolutional.DepthwiseConv2D object at 0x6586d1470>\n",
      "82 : mobilenet_1.00_224_conv_dw_13_bn, <keras.layers.normalization.BatchNormalization object at 0x6586d14e0>\n",
      "83 : mobilenet_1.00_224_conv_dw_13_relu, <keras.layers.advanced_activations.ReLU object at 0x6586d17b8>\n",
      "84 : mobilenet_1.00_224_conv_pw_13, <keras.layers.convolutional.Conv2D object at 0x6586d17f0>\n",
      "85 : mobilenet_1.00_224_conv_pw_13_bn, <keras.layers.normalization.BatchNormalization object at 0x6586d1978>\n",
      "86 : mobilenet_1.00_224_conv_pw_13_relu, <keras.layers.advanced_activations.ReLU object at 0x6586d1a90>\n",
      "87 : global_average_pooling2d_2, <keras.layers.pooling.GlobalAveragePooling2D object at 0x6586d1b70>\n",
      "88 : dense_2, <keras.layers.core.Dense object at 0x65b40b9e8>\n",
      "89 : activation_2, <keras.layers.core.Activation object at 0x65b3bffd0>\n"
     ]
    }
   ],
   "source": [
    "import coremltools\n",
    "\n",
    "labels = [\"apple\", \"banana\", \"cake\", \"candy\", \"carrot\", \"cookie\", \"doughnut\", \"grape\", \"hot dog\", \"ice cream\",\n",
    "         \"juice\", \"muffin\", \"orange\", \"pineapple\", \"popcorn\", \"pretzel\", \"salad\", \"strawberry\", \"waffle\", \"watermelon\"]\n",
    "\n",
    "coreml_model = coremltools.converters.keras.convert(best_model,\n",
    "                                                   input_names=\"image\",\n",
    "                                                   image_input_names=\"image\",\n",
    "                                                   output_names=\"labelProbability\",\n",
    "                                                   predicted_feature_name=\"label\",\n",
    "                                                   red_bias=-1, # normalization to interval [-1,+1]\n",
    "                                                   green_bias=-1,\n",
    "                                                   blue_bias=-1,\n",
    "                                                   image_scale=2/255.0,\n",
    "                                                   class_labels=labels)\n",
    "\n",
    "coreml_model.author = \"Antonio Chiappetta\"\n",
    "coreml_model.license = \"Public Domain\"\n",
    "coreml_model.short_description = \"Image classifier trained to distinguish 2 different types of pizza\"\n",
    "coreml_model.input_description[\"image\"] = \"Input image\"\n",
    "coreml_model.output_description[\"labelProbability\"] = \"Prediction probabilities\"\n",
    "coreml_model.output_description[\"label\"] = \"Class label of top prediction\"\n",
    "\n",
    "coreml_model.save(\"Pizza_keras.mlmodel\")"
   ]
  },
  {
   "cell_type": "code",
   "execution_count": null,
   "metadata": {},
   "outputs": [],
   "source": []
  }
 ],
 "metadata": {
  "kernelspec": {
   "display_name": "Python 3",
   "language": "python",
   "name": "python3"
  },
  "language_info": {
   "codemirror_mode": {
    "name": "ipython",
    "version": 3
   },
   "file_extension": ".py",
   "mimetype": "text/x-python",
   "name": "python",
   "nbconvert_exporter": "python",
   "pygments_lexer": "ipython3",
   "version": "3.6.8"
  }
 },
 "nbformat": 4,
 "nbformat_minor": 4
}
