{
 "cells": [
  {
   "cell_type": "markdown",
   "metadata": {},
   "source": [
    "# Import dataset"
   ]
  },
  {
   "cell_type": "code",
   "execution_count": 1,
   "metadata": {},
   "outputs": [],
   "source": [
    "import turicreate as tc\n",
    "import matplotlib.pyplot as plt"
   ]
  },
  {
   "cell_type": "code",
   "execution_count": 3,
   "metadata": {},
   "outputs": [],
   "source": [
    "images_dir = \"../../\"\n",
    "train_data = tc.image_analysis.load_images(images_dir + \"train\", with_path=True)\n",
    "val_data = tc.image_analysis.load_images(images_dir + \"val\", with_path=True)\n",
    "test_data = tc.image_analysis.load_images(images_dir + \"test\", with_path=True)"
   ]
  },
  {
   "cell_type": "code",
   "execution_count": 4,
   "metadata": {},
   "outputs": [],
   "source": [
    "import os\n",
    "\n",
    "train_data[\"label\"] = train_data[\"path\"].apply(lambda path: os.path.basename(os.path.split(path)[0]))\n",
    "val_data[\"label\"] = val_data[\"path\"].apply(lambda path: os.path.basename(os.path.split(path)[0]))\n",
    "test_data[\"label\"] = test_data[\"path\"].apply(lambda path: os.path.basename(os.path.split(path)[0]))"
   ]
  },
  {
   "cell_type": "markdown",
   "metadata": {},
   "source": [
    "# Training\n",
    "\n",
    "Available models:\n",
    "- VisionFeaturePrint_Scene\n",
    "- squeezenet_v1.1\n",
    "- ResNet50"
   ]
  },
  {
   "cell_type": "code",
   "execution_count": 5,
   "metadata": {},
   "outputs": [],
   "source": [
    "# model = tc.image_classifier.create(train_data,\n",
    "#                                    validation_set=val_data,\n",
    "#                                    target=\"label\",\n",
    "#                                    model=\"squeezenet_v1.1\",\n",
    "#                                    verbose=True,\n",
    "#                                    max_iterations=100,\n",
    "#                                    l2_penalty=10.0,\n",
    "#                                    l1_penalty=0.0,\n",
    "#                                    convergence_threshold=1e-8\n",
    "#                                   )"
   ]
  },
  {
   "cell_type": "code",
   "execution_count": 6,
   "metadata": {},
   "outputs": [
    {
     "name": "stdout",
     "output_type": "stream",
     "text": [
      "Downloading https://docs-assets.developer.apple.com/turicreate/models/squeezenet_v1.1-symbol.json\n",
      "Download completed: /var/folders/jj/98c_v4vd36n8xxvyqct7c9m80000gn/T/model_cache/squeezenet_v1.1-symbol.json\n",
      "Downloading https://docs-assets.developer.apple.com/turicreate/models/squeezenet_v1.1-0000.params\n",
      "Download completed: /var/folders/jj/98c_v4vd36n8xxvyqct7c9m80000gn/T/model_cache/squeezenet_v1.1-0000.params\n",
      "Performing feature extraction on resized images...\n",
      "Completed 20/20\n",
      "Performing feature extraction on resized images...\n",
      "Completed 6/6\n"
     ]
    }
   ],
   "source": [
    "# Extract and save features\n",
    "\n",
    "from turicreate.toolkits import _pre_trained_models\n",
    "from turicreate.toolkits import _image_feature_extractor\n",
    "\n",
    "ptModel = _pre_trained_models.MODELS[\"squeezenet_v1.1\"]()\n",
    "feature_extractor = _image_feature_extractor.MXFeatureExtractor(ptModel)\n",
    "\n",
    "train_features = feature_extractor.extract_features(train_data, \"image\", verbose=True)\n",
    "extracted_train_features = tc.SFrame({\"label\": train_data[\"label\"], \"__image_features__\": train_features})\n",
    "extracted_train_features.save(\"extracted_train_features.sframe\")\n",
    "\n",
    "val_features = feature_extractor.extract_features(val_data, \"image\", verbose=True)\n",
    "extracted_val_features = tc.SFrame({\"label\": val_data[\"label\"], \"__image_features__\": val_features})\n",
    "extracted_val_features.save(\"extracted_val_features.sframe\")"
   ]
  },
  {
   "cell_type": "code",
   "execution_count": 7,
   "metadata": {},
   "outputs": [
    {
     "data": {
      "text/html": [
       "<pre>Logistic regression:</pre>"
      ],
      "text/plain": [
       "Logistic regression:"
      ]
     },
     "metadata": {},
     "output_type": "display_data"
    },
    {
     "data": {
      "text/html": [
       "<pre>--------------------------------------------------------</pre>"
      ],
      "text/plain": [
       "--------------------------------------------------------"
      ]
     },
     "metadata": {},
     "output_type": "display_data"
    },
    {
     "data": {
      "text/html": [
       "<pre>Number of examples          : 20</pre>"
      ],
      "text/plain": [
       "Number of examples          : 20"
      ]
     },
     "metadata": {},
     "output_type": "display_data"
    },
    {
     "data": {
      "text/html": [
       "<pre>Number of classes           : 2</pre>"
      ],
      "text/plain": [
       "Number of classes           : 2"
      ]
     },
     "metadata": {},
     "output_type": "display_data"
    },
    {
     "data": {
      "text/html": [
       "<pre>Number of feature columns   : 1</pre>"
      ],
      "text/plain": [
       "Number of feature columns   : 1"
      ]
     },
     "metadata": {},
     "output_type": "display_data"
    },
    {
     "data": {
      "text/html": [
       "<pre>Number of unpacked features : 1000</pre>"
      ],
      "text/plain": [
       "Number of unpacked features : 1000"
      ]
     },
     "metadata": {},
     "output_type": "display_data"
    },
    {
     "data": {
      "text/html": [
       "<pre>Number of coefficients      : 1001</pre>"
      ],
      "text/plain": [
       "Number of coefficients      : 1001"
      ]
     },
     "metadata": {},
     "output_type": "display_data"
    },
    {
     "data": {
      "text/html": [
       "<pre>Starting L-BFGS</pre>"
      ],
      "text/plain": [
       "Starting L-BFGS"
      ]
     },
     "metadata": {},
     "output_type": "display_data"
    },
    {
     "data": {
      "text/html": [
       "<pre>--------------------------------------------------------</pre>"
      ],
      "text/plain": [
       "--------------------------------------------------------"
      ]
     },
     "metadata": {},
     "output_type": "display_data"
    },
    {
     "data": {
      "text/html": [
       "<pre>+-----------+----------+-----------+--------------+-------------------+---------------------+</pre>"
      ],
      "text/plain": [
       "+-----------+----------+-----------+--------------+-------------------+---------------------+"
      ]
     },
     "metadata": {},
     "output_type": "display_data"
    },
    {
     "data": {
      "text/html": [
       "<pre>| Iteration | Passes   | Step size | Elapsed Time | Training Accuracy | Validation Accuracy |</pre>"
      ],
      "text/plain": [
       "| Iteration | Passes   | Step size | Elapsed Time | Training Accuracy | Validation Accuracy |"
      ]
     },
     "metadata": {},
     "output_type": "display_data"
    },
    {
     "data": {
      "text/html": [
       "<pre>+-----------+----------+-----------+--------------+-------------------+---------------------+</pre>"
      ],
      "text/plain": [
       "+-----------+----------+-----------+--------------+-------------------+---------------------+"
      ]
     },
     "metadata": {},
     "output_type": "display_data"
    },
    {
     "data": {
      "text/html": [
       "<pre>| 0         | 5        | 0.042406  | 1.059991     | 0.500000          | 0.500000            |</pre>"
      ],
      "text/plain": [
       "| 0         | 5        | 0.042406  | 1.059991     | 0.500000          | 0.500000            |"
      ]
     },
     "metadata": {},
     "output_type": "display_data"
    },
    {
     "data": {
      "text/html": [
       "<pre>| 1         | 10       | 3.604504  | 1.118830     | 0.850000          | 0.833333            |</pre>"
      ],
      "text/plain": [
       "| 1         | 10       | 3.604504  | 1.118830     | 0.850000          | 0.833333            |"
      ]
     },
     "metadata": {},
     "output_type": "display_data"
    },
    {
     "data": {
      "text/html": [
       "<pre>| 2         | 13       | 1.802252  | 1.158319     | 1.000000          | 1.000000            |</pre>"
      ],
      "text/plain": [
       "| 2         | 13       | 1.802252  | 1.158319     | 1.000000          | 1.000000            |"
      ]
     },
     "metadata": {},
     "output_type": "display_data"
    },
    {
     "data": {
      "text/html": [
       "<pre>| 3         | 15       | 1.195582  | 1.186553     | 1.000000          | 1.000000            |</pre>"
      ],
      "text/plain": [
       "| 3         | 15       | 1.195582  | 1.186553     | 1.000000          | 1.000000            |"
      ]
     },
     "metadata": {},
     "output_type": "display_data"
    },
    {
     "data": {
      "text/html": [
       "<pre>| 4         | 17       | 1.195582  | 1.218504     | 1.000000          | 1.000000            |</pre>"
      ],
      "text/plain": [
       "| 4         | 17       | 1.195582  | 1.218504     | 1.000000          | 1.000000            |"
      ]
     },
     "metadata": {},
     "output_type": "display_data"
    },
    {
     "data": {
      "text/html": [
       "<pre>| 9         | 27       | 1.046068  | 1.368163     | 1.000000          | 1.000000            |</pre>"
      ],
      "text/plain": [
       "| 9         | 27       | 1.046068  | 1.368163     | 1.000000          | 1.000000            |"
      ]
     },
     "metadata": {},
     "output_type": "display_data"
    },
    {
     "data": {
      "text/html": [
       "<pre>| 49        | 98       | 0.805664  | 2.457596     | 1.000000          | 0.833333            |</pre>"
      ],
      "text/plain": [
       "| 49        | 98       | 0.805664  | 2.457596     | 1.000000          | 0.833333            |"
      ]
     },
     "metadata": {},
     "output_type": "display_data"
    },
    {
     "data": {
      "text/html": [
       "<pre>| 59        | 133      | 0.000000  | 2.892486     | 1.000000          | 0.833333            |</pre>"
      ],
      "text/plain": [
       "| 59        | 133      | 0.000000  | 2.892486     | 1.000000          | 0.833333            |"
      ]
     },
     "metadata": {},
     "output_type": "display_data"
    },
    {
     "data": {
      "text/html": [
       "<pre>+-----------+----------+-----------+--------------+-------------------+---------------------+</pre>"
      ],
      "text/plain": [
       "+-----------+----------+-----------+--------------+-------------------+---------------------+"
      ]
     },
     "metadata": {},
     "output_type": "display_data"
    }
   ],
   "source": [
    "lr_model = tc.logistic_classifier.create(extracted_train_features,\n",
    "                                         features=[\"__image_features__\"],\n",
    "                                         target=\"label\",\n",
    "                                         validation_set=extracted_val_features,\n",
    "                                         max_iterations=200,\n",
    "                                         seed=None,\n",
    "                                         verbose=True,\n",
    "                                         l2_penalty=10.0,\n",
    "                                         l1_penalty=0.0,\n",
    "                                         convergence_threshold=1e-8\n",
    "                                        )"
   ]
  },
  {
   "cell_type": "code",
   "execution_count": 8,
   "metadata": {},
   "outputs": [],
   "source": [
    "from turicreate.toolkits.image_classifier import ImageClassifier\n",
    "\n",
    "state = {\n",
    "    'classifier': lr_model,\n",
    "    'model': ptModel.name,\n",
    "    'max_iterations': lr_model.max_iterations,\n",
    "    'feature_extractor': feature_extractor,\n",
    "    'input_image_shape': ptModel.input_image_shape,\n",
    "    'target': lr_model.target,\n",
    "    'feature': 'image',\n",
    "    'num_features': 1,\n",
    "    'num_classes': lr_model.num_classes,\n",
    "    'classes': lr_model.classes,\n",
    "    'num_examples': lr_model.num_examples,\n",
    "    'training_time': lr_model.training_time,\n",
    "    'training_loss': lr_model.training_loss\n",
    "}\n",
    "\n",
    "model = ImageClassifier(state)"
   ]
  },
  {
   "cell_type": "markdown",
   "metadata": {},
   "source": [
    "# Testing"
   ]
  },
  {
   "cell_type": "code",
   "execution_count": 9,
   "metadata": {},
   "outputs": [
    {
     "name": "stdout",
     "output_type": "stream",
     "text": [
      "Performing feature extraction on resized images...\n",
      "Completed 6/6\n"
     ]
    },
    {
     "name": "stderr",
     "output_type": "stream",
     "text": [
      "/Applications/anaconda3/envs/turienv/lib/python3.7/site-packages/turicreate/aggregate.py:91: UserWarning: Passing parameter(s) to COUNT is deprecated. This functionality will be removed in the next major release. Any passed parameters are ignored.\n",
      "  warnings.warn('Passing parameter(s) to COUNT is deprecated. This functionality will be removed in '\n"
     ]
    }
   ],
   "source": [
    "metrics = model.evaluate(test_data)"
   ]
  },
  {
   "cell_type": "code",
   "execution_count": 10,
   "metadata": {},
   "outputs": [],
   "source": [
    "output = model.classify(test_data)"
   ]
  },
  {
   "cell_type": "code",
   "execution_count": 11,
   "metadata": {},
   "outputs": [],
   "source": [
    "predictions = model.predict(test_data, output_type=\"probability_vector\")"
   ]
  },
  {
   "cell_type": "code",
   "execution_count": 13,
   "metadata": {},
   "outputs": [],
   "source": [
    "imgs_with_pred = test_data.add_columns(output)\n",
    "imgs_filtered = imgs_with_pred[(imgs_with_pred[\"probability\"] > 0.9) & (imgs_with_pred[\"label\"] != imgs_with_pred[\"class\"])]"
   ]
  },
  {
   "cell_type": "code",
   "execution_count": 14,
   "metadata": {},
   "outputs": [],
   "source": [
    "import numpy as np\n",
    "import seaborn as sns\n",
    "\n",
    "def compute_confusion_matrix(metrics, labels):\n",
    "    num_labels = len(labels)\n",
    "    label_to_index = {l:i for i,l in enumerate(labels)}\n",
    "    \n",
    "    conf = np.zeros((num_labels, num_labels), dtype=np.int)\n",
    "    for row in metrics[\"confusion_matrix\"]:\n",
    "        true_label = label_to_index[row[\"target_label\"]]\n",
    "        pred_label = label_to_index[row[\"predicted_label\"]]\n",
    "        conf[true_label, pred_label] = row[\"count\"]\n",
    "        \n",
    "    return conf\n",
    "\n",
    "def plot_confusion_matrix(conf, labels, figsize=(8, 8)):\n",
    "    fig = plt.figure(figsize=figsize)\n",
    "    heatmap = sns.heatmap(conf, annot=True, fmt=\"d\")\n",
    "    heatmap.xaxis.set_ticklabels(labels, rotation=45, ha=\"right\", fontsize=12)\n",
    "    heatmap.yaxis.set_ticklabels(labels, rotation=0, ha=\"right\", fontsize=12)\n",
    "    plt.xlabel(\"Predicted label\", fontsize=12)\n",
    "    plt.ylabel(\"True label\", fontsize=12)\n",
    "    plt.show()"
   ]
  },
  {
   "cell_type": "code",
   "execution_count": 16,
   "metadata": {},
   "outputs": [
    {
     "data": {
      "image/png": "[encoded data removed]",
      "text/plain": [
       "<Figure size 1152x1152 with 2 Axes>"
      ]
     },
     "metadata": {
      "needs_background": "light"
     },
     "output_type": "display_data"
    }
   ],
   "source": [
    "labels = test_data[\"label\"].unique().sort()\n",
    "conf = compute_confusion_matrix(metrics, labels)\n",
    "plot_confusion_matrix(conf, labels, figsize=(16, 16))"
   ]
  },
  {
   "cell_type": "code",
   "execution_count": 17,
   "metadata": {},
   "outputs": [
    {
     "name": "stdout",
     "output_type": "stream",
     "text": [
      "margherita 100.0%\n",
      "  marinara 100.0%\n"
     ]
    }
   ],
   "source": [
    "for i, label in enumerate(labels):\n",
    "    correct = conf[i, i]\n",
    "    images_per_class = conf[i].sum()\n",
    "    print(\"%10s %.1f%%\" % (label, 100. * correct/images_per_class))"
   ]
  },
  {
   "cell_type": "code",
   "execution_count": null,
   "metadata": {},
   "outputs": [],
   "source": []
  }
 ],
 "metadata": {
  "kernelspec": {
   "display_name": "Python 3",
   "language": "python",
   "name": "python3"
  },
  "language_info": {
   "codemirror_mode": {
    "name": "ipython",
    "version": 3
   },
   "file_extension": ".py",
   "mimetype": "text/x-python",
   "name": "python",
   "nbconvert_exporter": "python",
   "pygments_lexer": "ipython3",
   "version": "3.7.6"
  }
 },
 "nbformat": 4,
 "nbformat_minor": 2
}
